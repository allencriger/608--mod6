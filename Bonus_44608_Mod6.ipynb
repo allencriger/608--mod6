{
 "cells": [
  {
   "cell_type": "code",
   "execution_count": null,
   "id": "76f37df8",
   "metadata": {},
   "outputs": [],
   "source": [
    "import pandas as pd"
   ]
  },
  {
   "cell_type": "code",
   "execution_count": null,
   "id": "1e34993e",
   "metadata": {},
   "outputs": [],
   "source": [
    "employee_hr = pd.read_csv('employee_hr.csv')"
   ]
  },
  {
   "cell_type": "code",
   "execution_count": null,
   "id": "89cc1aa8",
   "metadata": {},
   "outputs": [],
   "source": [
    "pd.set_option('precision', 2)\n"
   ]
  },
  {
   "cell_type": "code",
   "execution_count": null,
   "id": "958e7348",
   "metadata": {},
   "outputs": [],
   "source": [
    "del employee_hr[\"Name Prefix\"]"
   ]
  },
  {
   "cell_type": "code",
   "execution_count": null,
   "id": "0f818d32",
   "metadata": {},
   "outputs": [],
   "source": [
    "del employee_hr[\"Father's Name\"]"
   ]
  },
  {
   "cell_type": "code",
   "execution_count": null,
   "id": "4341c250",
   "metadata": {},
   "outputs": [],
   "source": [
    "del employee_hr[\"Mother's Name\"]"
   ]
  },
  {
   "cell_type": "code",
   "execution_count": null,
   "id": "c548edaf",
   "metadata": {},
   "outputs": [],
   "source": [
    "del employee_hr[\"Mother's Maiden Name\"]"
   ]
  },
  {
   "cell_type": "code",
   "execution_count": null,
   "id": "38cac3f2",
   "metadata": {},
   "outputs": [],
   "source": [
    "del employee_hr[\"Time of Birth\"]"
   ]
  },
  {
   "cell_type": "code",
   "execution_count": null,
   "id": "615d7067",
   "metadata": {},
   "outputs": [],
   "source": [
    "del employee_hr[\"Weight in Kgs.\"]"
   ]
  },
  {
   "cell_type": "code",
   "execution_count": null,
   "id": "b2e37e1f",
   "metadata": {},
   "outputs": [],
   "source": [
    "del employee_hr[\"Date of Joining\"]"
   ]
  },
  {
   "cell_type": "code",
   "execution_count": null,
   "id": "cf052399",
   "metadata": {},
   "outputs": [],
   "source": [
    "del employee_hr[\"Quarter of Joining\"]"
   ]
  },
  {
   "cell_type": "code",
   "execution_count": null,
   "id": "a9270293",
   "metadata": {},
   "outputs": [],
   "source": [
    "del employee_hr[\"Half of Joining\"]"
   ]
  },
  {
   "cell_type": "code",
   "execution_count": null,
   "id": "27ff9876",
   "metadata": {},
   "outputs": [],
   "source": [
    "del employee_hr[\"Year of Joining\"]"
   ]
  },
  {
   "cell_type": "code",
   "execution_count": null,
   "id": "9b6346e8",
   "metadata": {},
   "outputs": [],
   "source": [
    "del employee_hr[\"Month of Joining\"]"
   ]
  },
  {
   "cell_type": "code",
   "execution_count": null,
   "id": "9d04bc3c",
   "metadata": {},
   "outputs": [],
   "source": [
    "del employee_hr[\"Month Name of Joining\"]"
   ]
  },
  {
   "cell_type": "code",
   "execution_count": null,
   "id": "4fe32d1e",
   "metadata": {},
   "outputs": [],
   "source": [
    "del employee_hr[\"Short Month\"]"
   ]
  },
  {
   "cell_type": "code",
   "execution_count": null,
   "id": "b38badef",
   "metadata": {},
   "outputs": [],
   "source": [
    "del employee_hr[\"Day of Joining\"]"
   ]
  },
  {
   "cell_type": "code",
   "execution_count": null,
   "id": "859bcc10",
   "metadata": {},
   "outputs": [],
   "source": [
    "del employee_hr[\"DOW of Joining\"]"
   ]
  },
  {
   "cell_type": "code",
   "execution_count": null,
   "id": "2f724565",
   "metadata": {},
   "outputs": [],
   "source": [
    "del employee_hr[\"Short DOW\"]"
   ]
  },
  {
   "cell_type": "code",
   "execution_count": null,
   "id": "4fd5e822",
   "metadata": {},
   "outputs": [],
   "source": [
    "del employee_hr[\"Place Name\"]"
   ]
  },
  {
   "cell_type": "code",
   "execution_count": null,
   "id": "f9372b2b",
   "metadata": {},
   "outputs": [],
   "source": [
    "del employee_hr[\"County\"]"
   ]
  },
  {
   "cell_type": "code",
   "execution_count": null,
   "id": "889c88bf",
   "metadata": {},
   "outputs": [],
   "source": [
    "del employee_hr[\"User Name\"]"
   ]
  },
  {
   "cell_type": "code",
   "execution_count": null,
   "id": "7e104049",
   "metadata": {},
   "outputs": [],
   "source": [
    "del employee_hr[\"Password\"]"
   ]
  },
  {
   "cell_type": "code",
   "execution_count": null,
   "id": "56a8fd9b",
   "metadata": {},
   "outputs": [],
   "source": [
    "del employee_hr[\"E Mail\"]"
   ]
  },
  {
   "cell_type": "code",
   "execution_count": null,
   "id": "e69e026d",
   "metadata": {},
   "outputs": [],
   "source": [
    "del employee_hr[\"SSN\"]"
   ]
  },
  {
   "cell_type": "code",
   "execution_count": null,
   "id": "c29a2db1",
   "metadata": {},
   "outputs": [],
   "source": [
    "del employee_hr[\"Phone No. \"]"
   ]
  },
  {
   "cell_type": "code",
   "execution_count": null,
   "id": "3d3c268a",
   "metadata": {},
   "outputs": [],
   "source": [
    "del employee_hr[\"City\"]"
   ]
  },
  {
   "cell_type": "code",
   "execution_count": null,
   "id": "44702eb2",
   "metadata": {},
   "outputs": [],
   "source": [
    "del employee_hr[\"State\"]"
   ]
  },
  {
   "cell_type": "code",
   "execution_count": null,
   "id": "1c02fa8b",
   "metadata": {},
   "outputs": [],
   "source": [
    "del employee_hr[\"Zip\"]"
   ]
  },
  {
   "cell_type": "code",
   "execution_count": null,
   "id": "aac4374e",
   "metadata": {},
   "outputs": [],
   "source": [
    "employee_hr"
   ]
  },
  {
   "cell_type": "code",
   "execution_count": null,
   "id": "6fab7b49",
   "metadata": {},
   "outputs": [],
   "source": [
    "employee_hr.describe()"
   ]
  },
  {
   "cell_type": "code",
   "execution_count": null,
   "id": "7d603b6b",
   "metadata": {},
   "outputs": [],
   "source": [
    "employee_hr[\"Salary\"].describe()"
   ]
  },
  {
   "cell_type": "code",
   "execution_count": null,
   "id": "1a8a5c23",
   "metadata": {},
   "outputs": [],
   "source": [
    "employee_hr[\"Age in Yrs.\"].describe()"
   ]
  },
  {
   "cell_type": "code",
   "execution_count": null,
   "id": "f6afb69d",
   "metadata": {},
   "outputs": [],
   "source": [
    "employee_hr[\"Age in Company (Years)\"].describe()"
   ]
  },
  {
   "cell_type": "code",
   "execution_count": null,
   "id": "577d4ac8",
   "metadata": {},
   "outputs": [],
   "source": [
    "import matplotlib.pyplot as plt"
   ]
  },
  {
   "cell_type": "code",
   "execution_count": null,
   "id": "f453918a",
   "metadata": {},
   "outputs": [],
   "source": [
    "histogram = employee_hr[\"Salary\"].hist()"
   ]
  },
  {
   "cell_type": "code",
   "execution_count": null,
   "id": "05ad0a91",
   "metadata": {},
   "outputs": [],
   "source": [
    "histogram = employee_hr[\"Age in Yrs.\"].hist()"
   ]
  },
  {
   "cell_type": "code",
   "execution_count": null,
   "id": "48ffbeaf",
   "metadata": {},
   "outputs": [],
   "source": [
    "histogram = employee_hr[\"Age in Company (Years)\"].hist()"
   ]
  },
  {
   "cell_type": "code",
   "execution_count": null,
   "id": "00ef582b",
   "metadata": {},
   "outputs": [],
   "source": []
  }
 ],
 "metadata": {
  "kernelspec": {
   "display_name": "Python 3 (ipykernel)",
   "language": "python",
   "name": "python3"
  },
  "language_info": {
   "codemirror_mode": {
    "name": "ipython",
    "version": 3
   },
   "file_extension": ".py",
   "mimetype": "text/x-python",
   "name": "python",
   "nbconvert_exporter": "python",
   "pygments_lexer": "ipython3",
   "version": "3.9.7"
  }
 },
 "nbformat": 4,
 "nbformat_minor": 5
}
